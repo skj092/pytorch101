{
  "nbformat": 4,
  "nbformat_minor": 0,
  "metadata": {
    "colab": {
      "name": "1_Tensor.ipynb",
      "provenance": [],
      "authorship_tag": "ABX9TyN/HX055XvUzzLGp01gW2mi",
      "include_colab_link": true
    },
    "kernelspec": {
      "name": "python3",
      "display_name": "Python 3"
    },
    "language_info": {
      "name": "python"
    },
    "accelerator": "GPU"
  },
  "cells": [
    {
      "cell_type": "markdown",
      "metadata": {
        "id": "view-in-github",
        "colab_type": "text"
      },
      "source": [
        "<a href=\"https://colab.research.google.com/github/skj092/pytorch101/blob/main/1_Tensor.ipynb\" target=\"_parent\"><img src=\"https://colab.research.google.com/assets/colab-badge.svg\" alt=\"Open In Colab\"/></a>"
      ]
    },
    {
      "cell_type": "code",
      "metadata": {
        "id": "6fD_NgdK4sYQ"
      },
      "source": [
        "import torch\n",
        "import numpy as np "
      ],
      "execution_count": 1,
      "outputs": []
    },
    {
      "cell_type": "code",
      "metadata": {
        "colab": {
          "base_uri": "https://localhost:8080/"
        },
        "id": "BNceV_Jp5Qct",
        "outputId": "9761d841-cce0-4f75-991b-478fb9d027bb"
      },
      "source": [
        "torch.cuda.is_available()"
      ],
      "execution_count": 2,
      "outputs": [
        {
          "output_type": "execute_result",
          "data": {
            "text/plain": [
              "True"
            ]
          },
          "metadata": {
            "tags": []
          },
          "execution_count": 2
        }
      ]
    },
    {
      "cell_type": "code",
      "metadata": {
        "colab": {
          "base_uri": "https://localhost:8080/"
        },
        "id": "WHMKYdpT5b1B",
        "outputId": "de8f34f9-9ebd-4061-aa5b-946a9fa445ec"
      },
      "source": [
        "!nvidia-smi"
      ],
      "execution_count": 3,
      "outputs": [
        {
          "output_type": "stream",
          "text": [
            "Tue Apr 13 11:03:00 2021       \n",
            "+-----------------------------------------------------------------------------+\n",
            "| NVIDIA-SMI 460.67       Driver Version: 460.32.03    CUDA Version: 11.2     |\n",
            "|-------------------------------+----------------------+----------------------+\n",
            "| GPU  Name        Persistence-M| Bus-Id        Disp.A | Volatile Uncorr. ECC |\n",
            "| Fan  Temp  Perf  Pwr:Usage/Cap|         Memory-Usage | GPU-Util  Compute M. |\n",
            "|                               |                      |               MIG M. |\n",
            "|===============================+======================+======================|\n",
            "|   0  Tesla T4            Off  | 00000000:00:04.0 Off |                    0 |\n",
            "| N/A   63C    P8    11W /  70W |      3MiB / 15109MiB |      0%      Default |\n",
            "|                               |                      |                  N/A |\n",
            "+-------------------------------+----------------------+----------------------+\n",
            "                                                                               \n",
            "+-----------------------------------------------------------------------------+\n",
            "| Processes:                                                                  |\n",
            "|  GPU   GI   CI        PID   Type   Process name                  GPU Memory |\n",
            "|        ID   ID                                                   Usage      |\n",
            "|=============================================================================|\n",
            "|  No running processes found                                                 |\n",
            "+-----------------------------------------------------------------------------+\n"
          ],
          "name": "stdout"
        }
      ]
    },
    {
      "cell_type": "code",
      "metadata": {
        "id": "Gy8S81D85gcv"
      },
      "source": [
        "a = [[1,2,3],[4,5,6]]"
      ],
      "execution_count": 4,
      "outputs": []
    },
    {
      "cell_type": "code",
      "metadata": {
        "colab": {
          "base_uri": "https://localhost:8080/"
        },
        "id": "Q_KsgWLj53Qd",
        "outputId": "b54c1ed7-4a7e-4762-e2ab-f88699c538d9"
      },
      "source": [
        "type(a)"
      ],
      "execution_count": 5,
      "outputs": [
        {
          "output_type": "execute_result",
          "data": {
            "text/plain": [
              "list"
            ]
          },
          "metadata": {
            "tags": []
          },
          "execution_count": 5
        }
      ]
    },
    {
      "cell_type": "code",
      "metadata": {
        "colab": {
          "base_uri": "https://localhost:8080/"
        },
        "id": "HC9NrBNa54DP",
        "outputId": "b9c5ea81-5603-48af-b34a-9da064fb8eb4"
      },
      "source": [
        "np.array(a)"
      ],
      "execution_count": 6,
      "outputs": [
        {
          "output_type": "execute_result",
          "data": {
            "text/plain": [
              "array([[1, 2, 3],\n",
              "       [4, 5, 6]])"
            ]
          },
          "metadata": {
            "tags": []
          },
          "execution_count": 6
        }
      ]
    },
    {
      "cell_type": "code",
      "metadata": {
        "colab": {
          "base_uri": "https://localhost:8080/"
        },
        "id": "X4n3offu57Eg",
        "outputId": "8d05d65f-f2e5-4548-fad7-44c1aa78a7f7"
      },
      "source": [
        "np.asarray(a)"
      ],
      "execution_count": 7,
      "outputs": [
        {
          "output_type": "execute_result",
          "data": {
            "text/plain": [
              "array([[1, 2, 3],\n",
              "       [4, 5, 6]])"
            ]
          },
          "metadata": {
            "tags": []
          },
          "execution_count": 7
        }
      ]
    },
    {
      "cell_type": "code",
      "metadata": {
        "id": "_6udqD5T59l0"
      },
      "source": [
        "a = torch.tensor(a)"
      ],
      "execution_count": 9,
      "outputs": []
    },
    {
      "cell_type": "code",
      "metadata": {
        "colab": {
          "base_uri": "https://localhost:8080/"
        },
        "id": "oDuXBJVA6AQ5",
        "outputId": "4343269d-1aab-4454-b59c-cff7ed0ee680"
      },
      "source": [
        "type(a)"
      ],
      "execution_count": 10,
      "outputs": [
        {
          "output_type": "execute_result",
          "data": {
            "text/plain": [
              "torch.Tensor"
            ]
          },
          "metadata": {
            "tags": []
          },
          "execution_count": 10
        }
      ]
    },
    {
      "cell_type": "code",
      "metadata": {
        "colab": {
          "base_uri": "https://localhost:8080/"
        },
        "id": "SI7DIjfa6EYZ",
        "outputId": "4c19109b-ea3f-4fcb-8222-008ce35b0c12"
      },
      "source": [
        "a.dtype"
      ],
      "execution_count": 11,
      "outputs": [
        {
          "output_type": "execute_result",
          "data": {
            "text/plain": [
              "torch.int64"
            ]
          },
          "metadata": {
            "tags": []
          },
          "execution_count": 11
        }
      ]
    },
    {
      "cell_type": "code",
      "metadata": {
        "id": "tc1SBXd-6FJ8"
      },
      "source": [
        "numpy_array = np.random.rand(3,4)"
      ],
      "execution_count": 12,
      "outputs": []
    },
    {
      "cell_type": "code",
      "metadata": {
        "colab": {
          "base_uri": "https://localhost:8080/"
        },
        "id": "dgM92O206OcV",
        "outputId": "02d5cdce-df92-439c-a523-a7e28c3b68c5"
      },
      "source": [
        "numpy_array"
      ],
      "execution_count": 13,
      "outputs": [
        {
          "output_type": "execute_result",
          "data": {
            "text/plain": [
              "array([[0.54801379, 0.75550145, 0.94187472, 0.2634096 ],\n",
              "       [0.37572678, 0.35714063, 0.64408406, 0.28669229],\n",
              "       [0.88225531, 0.71032891, 0.5720392 , 0.33355991]])"
            ]
          },
          "metadata": {
            "tags": []
          },
          "execution_count": 13
        }
      ]
    },
    {
      "cell_type": "code",
      "metadata": {
        "colab": {
          "base_uri": "https://localhost:8080/"
        },
        "id": "QX07AyW_6PMF",
        "outputId": "68098638-010a-42c1-b1d6-a0b107254a4d"
      },
      "source": [
        "torch.from_numpy(numpy_array)"
      ],
      "execution_count": 14,
      "outputs": [
        {
          "output_type": "execute_result",
          "data": {
            "text/plain": [
              "tensor([[0.5480, 0.7555, 0.9419, 0.2634],\n",
              "        [0.3757, 0.3571, 0.6441, 0.2867],\n",
              "        [0.8823, 0.7103, 0.5720, 0.3336]], dtype=torch.float64)"
            ]
          },
          "metadata": {
            "tags": []
          },
          "execution_count": 14
        }
      ]
    },
    {
      "cell_type": "code",
      "metadata": {
        "colab": {
          "base_uri": "https://localhost:8080/"
        },
        "id": "j8pMez0j6SyL",
        "outputId": "9248338c-c915-4de3-8670-293dcb4da6b4"
      },
      "source": [
        "torch.tensor(numpy_array)"
      ],
      "execution_count": 15,
      "outputs": [
        {
          "output_type": "execute_result",
          "data": {
            "text/plain": [
              "tensor([[0.5480, 0.7555, 0.9419, 0.2634],\n",
              "        [0.3757, 0.3571, 0.6441, 0.2867],\n",
              "        [0.8823, 0.7103, 0.5720, 0.3336]], dtype=torch.float64)"
            ]
          },
          "metadata": {
            "tags": []
          },
          "execution_count": 15
        }
      ]
    },
    {
      "cell_type": "code",
      "metadata": {
        "id": "E9GTOmgh6Yte"
      },
      "source": [
        "## Tensor Operations"
      ],
      "execution_count": 17,
      "outputs": []
    },
    {
      "cell_type": "code",
      "metadata": {
        "colab": {
          "base_uri": "https://localhost:8080/"
        },
        "id": "cgtqyQQg6b_M",
        "outputId": "f3efbd48-a0bf-4316-8bb4-fc7679e2ec7c"
      },
      "source": [
        "torch.ones(2,3)"
      ],
      "execution_count": 18,
      "outputs": [
        {
          "output_type": "execute_result",
          "data": {
            "text/plain": [
              "tensor([[1., 1., 1.],\n",
              "        [1., 1., 1.]])"
            ]
          },
          "metadata": {
            "tags": []
          },
          "execution_count": 18
        }
      ]
    },
    {
      "cell_type": "code",
      "metadata": {
        "colab": {
          "base_uri": "https://localhost:8080/"
        },
        "id": "gqD8L51e6hIN",
        "outputId": "b12ec9c6-2f49-4ea4-b5ae-d50800f10911"
      },
      "source": [
        "torch.zeros(3,4)"
      ],
      "execution_count": 19,
      "outputs": [
        {
          "output_type": "execute_result",
          "data": {
            "text/plain": [
              "tensor([[0., 0., 0., 0.],\n",
              "        [0., 0., 0., 0.],\n",
              "        [0., 0., 0., 0.]])"
            ]
          },
          "metadata": {
            "tags": []
          },
          "execution_count": 19
        }
      ]
    },
    {
      "cell_type": "code",
      "metadata": {
        "colab": {
          "base_uri": "https://localhost:8080/"
        },
        "id": "oZSI31G96i1L",
        "outputId": "6e04400e-d15b-4633-f723-30b89d086d7e"
      },
      "source": [
        "my_tensor = torch.rand(3,5)\n",
        "my_tensor"
      ],
      "execution_count": 22,
      "outputs": [
        {
          "output_type": "execute_result",
          "data": {
            "text/plain": [
              "tensor([[0.1368, 0.7982, 0.6192, 0.4124, 0.6531],\n",
              "        [0.6386, 0.6071, 0.7023, 0.2097, 0.9566],\n",
              "        [0.9366, 0.4974, 0.1943, 0.0431, 0.2707]])"
            ]
          },
          "metadata": {
            "tags": []
          },
          "execution_count": 22
        }
      ]
    },
    {
      "cell_type": "code",
      "metadata": {
        "colab": {
          "base_uri": "https://localhost:8080/"
        },
        "id": "QKck1u6d6mVv",
        "outputId": "ecfdeb26-5032-49e6-9d38-1402964431b9"
      },
      "source": [
        "my_tensor.dtype"
      ],
      "execution_count": 23,
      "outputs": [
        {
          "output_type": "execute_result",
          "data": {
            "text/plain": [
              "torch.float32"
            ]
          },
          "metadata": {
            "tags": []
          },
          "execution_count": 23
        }
      ]
    },
    {
      "cell_type": "code",
      "metadata": {
        "colab": {
          "base_uri": "https://localhost:8080/"
        },
        "id": "p1ruX8CL6vl4",
        "outputId": "d42c3aa3-f195-4bca-8f25-7001109c38aa"
      },
      "source": [
        "my_tensor.device"
      ],
      "execution_count": 24,
      "outputs": [
        {
          "output_type": "execute_result",
          "data": {
            "text/plain": [
              "device(type='cpu')"
            ]
          },
          "metadata": {
            "tags": []
          },
          "execution_count": 24
        }
      ]
    },
    {
      "cell_type": "code",
      "metadata": {
        "id": "B19mVXO96x4l"
      },
      "source": [
        "my_tensor = my_tensor.to('cuda')"
      ],
      "execution_count": 25,
      "outputs": []
    },
    {
      "cell_type": "code",
      "metadata": {
        "colab": {
          "base_uri": "https://localhost:8080/"
        },
        "id": "WzYwTL1063Cb",
        "outputId": "3855067c-c801-4b67-c539-b18c13d7e8d3"
      },
      "source": [
        "my_tensor.device"
      ],
      "execution_count": 27,
      "outputs": [
        {
          "output_type": "execute_result",
          "data": {
            "text/plain": [
              "device(type='cuda', index=0)"
            ]
          },
          "metadata": {
            "tags": []
          },
          "execution_count": 27
        }
      ]
    },
    {
      "cell_type": "code",
      "metadata": {
        "colab": {
          "base_uri": "https://localhost:8080/"
        },
        "id": "46tFKbQo64P6",
        "outputId": "317aa613-8cd9-4cf2-fc0b-35ef51c942a3"
      },
      "source": [
        "my_tensor[:,1]"
      ],
      "execution_count": 28,
      "outputs": [
        {
          "output_type": "execute_result",
          "data": {
            "text/plain": [
              "tensor([0.7982, 0.6071, 0.4974], device='cuda:0')"
            ]
          },
          "metadata": {
            "tags": []
          },
          "execution_count": 28
        }
      ]
    },
    {
      "cell_type": "code",
      "metadata": {
        "colab": {
          "base_uri": "https://localhost:8080/"
        },
        "id": "zUq4Pakg7FNI",
        "outputId": "96648b07-ddd4-47f9-e821-68fb63ccf39c"
      },
      "source": [
        "my_tensor[:,:2]"
      ],
      "execution_count": 29,
      "outputs": [
        {
          "output_type": "execute_result",
          "data": {
            "text/plain": [
              "tensor([[0.1368, 0.7982],\n",
              "        [0.6386, 0.6071],\n",
              "        [0.9366, 0.4974]], device='cuda:0')"
            ]
          },
          "metadata": {
            "tags": []
          },
          "execution_count": 29
        }
      ]
    },
    {
      "cell_type": "code",
      "metadata": {
        "colab": {
          "base_uri": "https://localhost:8080/"
        },
        "id": "sp6uE_lr7IhE",
        "outputId": "80f9503d-4ce0-404f-978a-efd688f22e2e"
      },
      "source": [
        "my_tensor.mul(my_tensor)"
      ],
      "execution_count": 30,
      "outputs": [
        {
          "output_type": "execute_result",
          "data": {
            "text/plain": [
              "tensor([[0.0187, 0.6371, 0.3834, 0.1700, 0.4266],\n",
              "        [0.4078, 0.3686, 0.4932, 0.0440, 0.9150],\n",
              "        [0.8772, 0.2474, 0.0378, 0.0019, 0.0733]], device='cuda:0')"
            ]
          },
          "metadata": {
            "tags": []
          },
          "execution_count": 30
        }
      ]
    },
    {
      "cell_type": "code",
      "metadata": {
        "colab": {
          "base_uri": "https://localhost:8080/"
        },
        "id": "THl5avuJ7O_C",
        "outputId": "f2ecb0fd-eee5-495f-825f-274096a021fb"
      },
      "source": [
        "my_tensor*my_tensor"
      ],
      "execution_count": 31,
      "outputs": [
        {
          "output_type": "execute_result",
          "data": {
            "text/plain": [
              "tensor([[0.0187, 0.6371, 0.3834, 0.1700, 0.4266],\n",
              "        [0.4078, 0.3686, 0.4932, 0.0440, 0.9150],\n",
              "        [0.8772, 0.2474, 0.0378, 0.0019, 0.0733]], device='cuda:0')"
            ]
          },
          "metadata": {
            "tags": []
          },
          "execution_count": 31
        }
      ]
    },
    {
      "cell_type": "code",
      "metadata": {
        "colab": {
          "base_uri": "https://localhost:8080/"
        },
        "id": "QvtYpFkI7SVq",
        "outputId": "56234953-b955-450a-a533-b9db08729087"
      },
      "source": [
        "my_tensor.matmul(my_tensor.T)"
      ],
      "execution_count": 32,
      "outputs": [
        {
          "output_type": "execute_result",
          "data": {
            "text/plain": [
              "tensor([[1.6358, 1.7180, 0.8400],\n",
              "        [1.7180, 2.2285, 1.3045],\n",
              "        [0.8400, 1.3045, 1.2375]], device='cuda:0')"
            ]
          },
          "metadata": {
            "tags": []
          },
          "execution_count": 32
        }
      ]
    },
    {
      "cell_type": "code",
      "metadata": {
        "colab": {
          "base_uri": "https://localhost:8080/"
        },
        "id": "Lcu4tJcD7XS_",
        "outputId": "4bd3e68e-6e33-455e-8e61-84e0228f8b32"
      },
      "source": [
        "torch.matmul(my_tensor, my_tensor.T)"
      ],
      "execution_count": 33,
      "outputs": [
        {
          "output_type": "execute_result",
          "data": {
            "text/plain": [
              "tensor([[1.6358, 1.7180, 0.8400],\n",
              "        [1.7180, 2.2285, 1.3045],\n",
              "        [0.8400, 1.3045, 1.2375]], device='cuda:0')"
            ]
          },
          "metadata": {
            "tags": []
          },
          "execution_count": 33
        }
      ]
    },
    {
      "cell_type": "code",
      "metadata": {
        "colab": {
          "base_uri": "https://localhost:8080/"
        },
        "id": "jxnU3KdX7etz",
        "outputId": "a2305472-656f-4bd6-a1a8-4e271764cae8"
      },
      "source": [
        "my_tensor @ my_tensor.T"
      ],
      "execution_count": 34,
      "outputs": [
        {
          "output_type": "execute_result",
          "data": {
            "text/plain": [
              "tensor([[1.6358, 1.7180, 0.8400],\n",
              "        [1.7180, 2.2285, 1.3045],\n",
              "        [0.8400, 1.3045, 1.2375]], device='cuda:0')"
            ]
          },
          "metadata": {
            "tags": []
          },
          "execution_count": 34
        }
      ]
    },
    {
      "cell_type": "code",
      "metadata": {
        "colab": {
          "base_uri": "https://localhost:8080/"
        },
        "id": "tmdE7zNk7iEy",
        "outputId": "07044eb0-193b-4c25-ad73-cbde1f4d3202"
      },
      "source": [
        "my_tensor.sum()"
      ],
      "execution_count": 35,
      "outputs": [
        {
          "output_type": "execute_result",
          "data": {
            "text/plain": [
              "tensor(7.6760, device='cuda:0')"
            ]
          },
          "metadata": {
            "tags": []
          },
          "execution_count": 35
        }
      ]
    },
    {
      "cell_type": "code",
      "metadata": {
        "colab": {
          "base_uri": "https://localhost:8080/"
        },
        "id": "LSxnNsRk7m3v",
        "outputId": "b84f52e2-b24b-4bd3-ba52-ebcdc4c98cbb"
      },
      "source": [
        "my_tensor.sum(axis=0)"
      ],
      "execution_count": 36,
      "outputs": [
        {
          "output_type": "execute_result",
          "data": {
            "text/plain": [
              "tensor([1.7120, 1.9026, 1.5158, 0.6652, 1.8804], device='cuda:0')"
            ]
          },
          "metadata": {
            "tags": []
          },
          "execution_count": 36
        }
      ]
    },
    {
      "cell_type": "code",
      "metadata": {
        "id": "bUGaE_t47o9f"
      },
      "source": [
        "# torch.max, torch.min"
      ],
      "execution_count": 37,
      "outputs": []
    },
    {
      "cell_type": "code",
      "metadata": {
        "colab": {
          "base_uri": "https://localhost:8080/"
        },
        "id": "uL7Z1BjW7uPU",
        "outputId": "28077d59-2298-445c-806e-87b0c9ded8a5"
      },
      "source": [
        "torch.cat([my_tensor, my_tensor])"
      ],
      "execution_count": 39,
      "outputs": [
        {
          "output_type": "execute_result",
          "data": {
            "text/plain": [
              "tensor([[0.1368, 0.7982, 0.6192, 0.4124, 0.6531],\n",
              "        [0.6386, 0.6071, 0.7023, 0.2097, 0.9566],\n",
              "        [0.9366, 0.4974, 0.1943, 0.0431, 0.2707],\n",
              "        [0.1368, 0.7982, 0.6192, 0.4124, 0.6531],\n",
              "        [0.6386, 0.6071, 0.7023, 0.2097, 0.9566],\n",
              "        [0.9366, 0.4974, 0.1943, 0.0431, 0.2707]], device='cuda:0')"
            ]
          },
          "metadata": {
            "tags": []
          },
          "execution_count": 39
        }
      ]
    },
    {
      "cell_type": "code",
      "metadata": {
        "colab": {
          "base_uri": "https://localhost:8080/"
        },
        "id": "03SYZkvE7y0L",
        "outputId": "986b3110-eb45-4d3a-94ca-42836353c161"
      },
      "source": [
        "torch.cat([my_tensor, my_tensor], axis=0)"
      ],
      "execution_count": 41,
      "outputs": [
        {
          "output_type": "execute_result",
          "data": {
            "text/plain": [
              "tensor([[0.1368, 0.7982, 0.6192, 0.4124, 0.6531],\n",
              "        [0.6386, 0.6071, 0.7023, 0.2097, 0.9566],\n",
              "        [0.9366, 0.4974, 0.1943, 0.0431, 0.2707],\n",
              "        [0.1368, 0.7982, 0.6192, 0.4124, 0.6531],\n",
              "        [0.6386, 0.6071, 0.7023, 0.2097, 0.9566],\n",
              "        [0.9366, 0.4974, 0.1943, 0.0431, 0.2707]], device='cuda:0')"
            ]
          },
          "metadata": {
            "tags": []
          },
          "execution_count": 41
        }
      ]
    },
    {
      "cell_type": "code",
      "metadata": {
        "colab": {
          "base_uri": "https://localhost:8080/"
        },
        "id": "slltofh273mq",
        "outputId": "33d5e0a4-7e9e-4d74-9d96-4e8b57736846"
      },
      "source": [
        "torch.nn.functional.softmax(my_tensor, dim=1)"
      ],
      "execution_count": 43,
      "outputs": [
        {
          "output_type": "execute_result",
          "data": {
            "text/plain": [
              "tensor([[0.1324, 0.2566, 0.2145, 0.1745, 0.2220],\n",
              "        [0.1976, 0.1915, 0.2106, 0.1287, 0.2716],\n",
              "        [0.3286, 0.2118, 0.1564, 0.1345, 0.1688]], device='cuda:0')"
            ]
          },
          "metadata": {
            "tags": []
          },
          "execution_count": 43
        }
      ]
    },
    {
      "cell_type": "code",
      "metadata": {
        "colab": {
          "base_uri": "https://localhost:8080/"
        },
        "id": "R8OFGEr97-EX",
        "outputId": "8cbc702e-4e40-473c-cbe0-c1be13dd876a"
      },
      "source": [
        "my_tensor.shape"
      ],
      "execution_count": 44,
      "outputs": [
        {
          "output_type": "execute_result",
          "data": {
            "text/plain": [
              "torch.Size([3, 5])"
            ]
          },
          "metadata": {
            "tags": []
          },
          "execution_count": 44
        }
      ]
    },
    {
      "cell_type": "code",
      "metadata": {
        "colab": {
          "base_uri": "https://localhost:8080/"
        },
        "id": "Ct_DIRfM8E5z",
        "outputId": "2e72fb73-d1e2-42e3-a1db-2088763da5c7"
      },
      "source": [
        "my_tensor.size()"
      ],
      "execution_count": 46,
      "outputs": [
        {
          "output_type": "execute_result",
          "data": {
            "text/plain": [
              "torch.Size([3, 5])"
            ]
          },
          "metadata": {
            "tags": []
          },
          "execution_count": 46
        }
      ]
    },
    {
      "cell_type": "code",
      "metadata": {
        "colab": {
          "base_uri": "https://localhost:8080/"
        },
        "id": "-GDidO8k8F97",
        "outputId": "86584dfa-60e2-4b49-85bf-88f392d27a5c"
      },
      "source": [
        "my_tensor.size(0)"
      ],
      "execution_count": 47,
      "outputs": [
        {
          "output_type": "execute_result",
          "data": {
            "text/plain": [
              "3"
            ]
          },
          "metadata": {
            "tags": []
          },
          "execution_count": 47
        }
      ]
    },
    {
      "cell_type": "code",
      "metadata": {
        "colab": {
          "base_uri": "https://localhost:8080/"
        },
        "id": "PdHnzkQX8J_p",
        "outputId": "a5567492-6dc5-44a6-cc62-887afd5170c7"
      },
      "source": [
        "torch.rand(10,3,128,128).size"
      ],
      "execution_count": 49,
      "outputs": [
        {
          "output_type": "execute_result",
          "data": {
            "text/plain": [
              "<function Tensor.size>"
            ]
          },
          "metadata": {
            "tags": []
          },
          "execution_count": 49
        }
      ]
    },
    {
      "cell_type": "code",
      "metadata": {
        "colab": {
          "base_uri": "https://localhost:8080/"
        },
        "id": "LXbjeWAC8S9q",
        "outputId": "4f673208-1492-4dba-de0c-5c750ad35a60"
      },
      "source": [
        "my_tensor"
      ],
      "execution_count": 50,
      "outputs": [
        {
          "output_type": "execute_result",
          "data": {
            "text/plain": [
              "tensor([[0.1368, 0.7982, 0.6192, 0.4124, 0.6531],\n",
              "        [0.6386, 0.6071, 0.7023, 0.2097, 0.9566],\n",
              "        [0.9366, 0.4974, 0.1943, 0.0431, 0.2707]], device='cuda:0')"
            ]
          },
          "metadata": {
            "tags": []
          },
          "execution_count": 50
        }
      ]
    },
    {
      "cell_type": "code",
      "metadata": {
        "colab": {
          "base_uri": "https://localhost:8080/"
        },
        "id": "UYoQZTA_8XWi",
        "outputId": "c250b64a-b616-44be-a1be-8f9f3925b18d"
      },
      "source": [
        "my_tensor.clip(0.2,0.8)"
      ],
      "execution_count": 52,
      "outputs": [
        {
          "output_type": "execute_result",
          "data": {
            "text/plain": [
              "tensor([[0.2000, 0.7982, 0.6192, 0.4124, 0.6531],\n",
              "        [0.6386, 0.6071, 0.7023, 0.2097, 0.8000],\n",
              "        [0.8000, 0.4974, 0.2000, 0.2000, 0.2707]], device='cuda:0')"
            ]
          },
          "metadata": {
            "tags": []
          },
          "execution_count": 52
        }
      ]
    },
    {
      "cell_type": "code",
      "metadata": {
        "colab": {
          "base_uri": "https://localhost:8080/"
        },
        "id": "o21iJK7J8Z3D",
        "outputId": "b5d3ff2c-555d-4735-a32e-3172bad8564b"
      },
      "source": [
        "my_tensor.cpu().detach().numpy()"
      ],
      "execution_count": 53,
      "outputs": [
        {
          "output_type": "execute_result",
          "data": {
            "text/plain": [
              "array([[0.13684201, 0.7981615 , 0.6191973 , 0.4123652 , 0.6531337 ],\n",
              "       [0.6386037 , 0.60710645, 0.7022597 , 0.20966041, 0.95656353],\n",
              "       [0.93659204, 0.49737662, 0.19431561, 0.04313368, 0.2706704 ]],\n",
              "      dtype=float32)"
            ]
          },
          "metadata": {
            "tags": []
          },
          "execution_count": 53
        }
      ]
    },
    {
      "cell_type": "code",
      "metadata": {
        "id": "Y4Pdw2758hyk"
      },
      "source": [
        ""
      ],
      "execution_count": null,
      "outputs": []
    }
  ]
}