{
  "nbformat": 4,
  "nbformat_minor": 0,
  "metadata": {
    "colab": {
      "name": "2_Autograd.ipynb",
      "provenance": [],
      "authorship_tag": "ABX9TyOUa8e1jh6FZb+Ou1AEbcZ6",
      "include_colab_link": true
    },
    "kernelspec": {
      "name": "python3",
      "display_name": "Python 3"
    },
    "language_info": {
      "name": "python"
    },
    "accelerator": "GPU"
  },
  "cells": [
    {
      "cell_type": "markdown",
      "metadata": {
        "id": "view-in-github",
        "colab_type": "text"
      },
      "source": [
        "<a href=\"https://colab.research.google.com/github/skj092/pytorch101/blob/main/2_Autograd.ipynb\" target=\"_parent\"><img src=\"https://colab.research.google.com/assets/colab-badge.svg\" alt=\"Open In Colab\"/></a>"
      ]
    },
    {
      "cell_type": "code",
      "metadata": {
        "id": "JDeed-969hgI"
      },
      "source": [
        "import torch"
      ],
      "execution_count": 54,
      "outputs": []
    },
    {
      "cell_type": "code",
      "metadata": {
        "id": "Qc-itACa9ijG"
      },
      "source": [
        "a = torch.tensor([5.], requires_grad=True)\n",
        "b = torch.tensor([3.], requires_grad=True)"
      ],
      "execution_count": 55,
      "outputs": []
    },
    {
      "cell_type": "code",
      "metadata": {
        "colab": {
          "base_uri": "https://localhost:8080/"
        },
        "id": "stSJz1Ut9qML",
        "outputId": "da2f09af-cf96-4e74-84b2-239f968af56c"
      },
      "source": [
        "y = a**3 + b**2\n",
        "y"
      ],
      "execution_count": 56,
      "outputs": [
        {
          "output_type": "execute_result",
          "data": {
            "text/plain": [
              "tensor([134.], grad_fn=<AddBackward0>)"
            ]
          },
          "metadata": {
            "tags": []
          },
          "execution_count": 56
        }
      ]
    },
    {
      "cell_type": "code",
      "metadata": {
        "id": "0F07iM8U9tiq"
      },
      "source": [
        "# dy/da = 3*a**2=3*5**2=75\n",
        "# dy/db = 2*b = 2*3 = 6"
      ],
      "execution_count": 57,
      "outputs": []
    },
    {
      "cell_type": "code",
      "metadata": {
        "colab": {
          "base_uri": "https://localhost:8080/"
        },
        "id": "h8sZNiYr-Bsp",
        "outputId": "0725f925-caed-461b-d90e-d4ec3a176237"
      },
      "source": [
        "print(a.grad)\n",
        "print(b.grad)"
      ],
      "execution_count": 58,
      "outputs": [
        {
          "output_type": "stream",
          "text": [
            "None\n",
            "None\n"
          ],
          "name": "stdout"
        }
      ]
    },
    {
      "cell_type": "code",
      "metadata": {
        "id": "dY_tSjPJ-Hbz"
      },
      "source": [
        "y.backward()"
      ],
      "execution_count": 59,
      "outputs": []
    },
    {
      "cell_type": "code",
      "metadata": {
        "colab": {
          "base_uri": "https://localhost:8080/"
        },
        "id": "pdOJxf7a-KVM",
        "outputId": "6cd1c794-8fec-49ce-99a2-a373ed68bded"
      },
      "source": [
        "a.grad"
      ],
      "execution_count": 61,
      "outputs": [
        {
          "output_type": "execute_result",
          "data": {
            "text/plain": [
              "tensor([75.])"
            ]
          },
          "metadata": {
            "tags": []
          },
          "execution_count": 61
        }
      ]
    },
    {
      "cell_type": "code",
      "metadata": {
        "colab": {
          "base_uri": "https://localhost:8080/"
        },
        "id": "nnqrLsae-OB3",
        "outputId": "8c666eab-5ea7-4424-8f2e-a5a03dc69625"
      },
      "source": [
        "b.grad"
      ],
      "execution_count": 62,
      "outputs": [
        {
          "output_type": "execute_result",
          "data": {
            "text/plain": [
              "tensor([6.])"
            ]
          },
          "metadata": {
            "tags": []
          },
          "execution_count": 62
        }
      ]
    },
    {
      "cell_type": "code",
      "metadata": {
        "id": "zWEx6fnO-TM3"
      },
      "source": [
        "w = torch.randn(5,1, requires_grad=True)\n",
        "b = torch.rand(1, requires_grad=True)"
      ],
      "execution_count": 63,
      "outputs": []
    },
    {
      "cell_type": "code",
      "metadata": {
        "colab": {
          "base_uri": "https://localhost:8080/"
        },
        "id": "4p54EK9s-fII",
        "outputId": "d7e35103-4451-48e6-8198-a570ae8fd12f"
      },
      "source": [
        "w"
      ],
      "execution_count": 64,
      "outputs": [
        {
          "output_type": "execute_result",
          "data": {
            "text/plain": [
              "tensor([[ 0.1652],\n",
              "        [-1.8434],\n",
              "        [-1.0312],\n",
              "        [-0.3729],\n",
              "        [ 0.3186]], requires_grad=True)"
            ]
          },
          "metadata": {
            "tags": []
          },
          "execution_count": 64
        }
      ]
    },
    {
      "cell_type": "code",
      "metadata": {
        "id": "3b4dP0Q3-faB"
      },
      "source": [
        "x = torch.rand(1,5)"
      ],
      "execution_count": 65,
      "outputs": []
    },
    {
      "cell_type": "code",
      "metadata": {
        "colab": {
          "base_uri": "https://localhost:8080/"
        },
        "id": "GvMGtTRS-hZq",
        "outputId": "74263bea-40c9-4157-ce3b-2de307f266ba"
      },
      "source": [
        "x"
      ],
      "execution_count": 66,
      "outputs": [
        {
          "output_type": "execute_result",
          "data": {
            "text/plain": [
              "tensor([[0.5354, 0.7935, 0.9856, 0.0547, 0.6498]])"
            ]
          },
          "metadata": {
            "tags": []
          },
          "execution_count": 66
        }
      ]
    },
    {
      "cell_type": "code",
      "metadata": {
        "id": "Nn5RBnW--iL8"
      },
      "source": [
        "output = torch.matmul(x,w)+b"
      ],
      "execution_count": 67,
      "outputs": []
    },
    {
      "cell_type": "code",
      "metadata": {
        "id": "Hswj7cSH-nFH"
      },
      "source": [
        "loss = 1-output"
      ],
      "execution_count": 68,
      "outputs": []
    },
    {
      "cell_type": "code",
      "metadata": {
        "colab": {
          "base_uri": "https://localhost:8080/"
        },
        "id": "C1N9Huy--o-q",
        "outputId": "ca206ad7-e8fc-4ab9-d01f-71d1ec8d1c0d"
      },
      "source": [
        "loss"
      ],
      "execution_count": 69,
      "outputs": [
        {
          "output_type": "execute_result",
          "data": {
            "text/plain": [
              "tensor([[3.0251]], grad_fn=<RsubBackward1>)"
            ]
          },
          "metadata": {
            "tags": []
          },
          "execution_count": 69
        }
      ]
    },
    {
      "cell_type": "code",
      "metadata": {
        "colab": {
          "base_uri": "https://localhost:8080/"
        },
        "id": "BN08ZqYv-pgx",
        "outputId": "0be28b76-3195-40e4-b3b7-204cf282c086"
      },
      "source": [
        "output"
      ],
      "execution_count": 70,
      "outputs": [
        {
          "output_type": "execute_result",
          "data": {
            "text/plain": [
              "tensor([[-2.0251]], grad_fn=<AddBackward0>)"
            ]
          },
          "metadata": {
            "tags": []
          },
          "execution_count": 70
        }
      ]
    },
    {
      "cell_type": "code",
      "metadata": {
        "id": "Ns2UznzU-rS9"
      },
      "source": [
        "loss.backward()"
      ],
      "execution_count": 71,
      "outputs": []
    },
    {
      "cell_type": "code",
      "metadata": {
        "colab": {
          "base_uri": "https://localhost:8080/"
        },
        "id": "1-Jb9KqN-yXk",
        "outputId": "d3634f2c-2a6b-4213-c6cd-10b7bce7af44"
      },
      "source": [
        "w.grad"
      ],
      "execution_count": 72,
      "outputs": [
        {
          "output_type": "execute_result",
          "data": {
            "text/plain": [
              "tensor([[-0.5354],\n",
              "        [-0.7935],\n",
              "        [-0.9856],\n",
              "        [-0.0547],\n",
              "        [-0.6498]])"
            ]
          },
          "metadata": {
            "tags": []
          },
          "execution_count": 72
        }
      ]
    },
    {
      "cell_type": "code",
      "metadata": {
        "colab": {
          "base_uri": "https://localhost:8080/"
        },
        "id": "CvHo9f6X-zRq",
        "outputId": "7839d088-aa55-4eff-873b-a409e3037405"
      },
      "source": [
        "b.grad"
      ],
      "execution_count": 73,
      "outputs": [
        {
          "output_type": "execute_result",
          "data": {
            "text/plain": [
              "tensor([-1.])"
            ]
          },
          "metadata": {
            "tags": []
          },
          "execution_count": 73
        }
      ]
    },
    {
      "cell_type": "code",
      "metadata": {
        "id": "1iZHdT4s-0d7"
      },
      "source": [
        "with torch.no_grad():\n",
        "  w = w-0.01*w.grad.data"
      ],
      "execution_count": 74,
      "outputs": []
    },
    {
      "cell_type": "code",
      "metadata": {
        "colab": {
          "base_uri": "https://localhost:8080/"
        },
        "id": "bx8zIziJ_Bm1",
        "outputId": "f9057d8b-9dd7-410c-db55-50848fb5165a"
      },
      "source": [
        "w"
      ],
      "execution_count": 75,
      "outputs": [
        {
          "output_type": "execute_result",
          "data": {
            "text/plain": [
              "tensor([[ 0.1706],\n",
              "        [-1.8354],\n",
              "        [-1.0214],\n",
              "        [-0.3723],\n",
              "        [ 0.3251]])"
            ]
          },
          "metadata": {
            "tags": []
          },
          "execution_count": 75
        }
      ]
    },
    {
      "cell_type": "code",
      "metadata": {
        "id": "qbmy1hCU_B3l"
      },
      "source": [
        ""
      ],
      "execution_count": null,
      "outputs": []
    }
  ]
}